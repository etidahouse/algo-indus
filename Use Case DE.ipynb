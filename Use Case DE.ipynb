{
  "cells": [
    {
      "cell_type": "code",
      "source": [
        "!pip install gurobipy\n",
        "!pip install tqdm"
      ],
      "metadata": {
        "colab": {
          "base_uri": "https://localhost:8080/"
        },
        "id": "aNjnLDEkehZR",
        "outputId": "56bc2747-d0bf-4c87-d834-dae4b597fc5f"
      },
      "execution_count": null,
      "outputs": [
        {
          "output_type": "stream",
          "name": "stdout",
          "text": [
            "Requirement already satisfied: gurobipy in /usr/local/lib/python3.11/dist-packages (12.0.1)\n",
            "Requirement already satisfied: tqdm in /usr/local/lib/python3.11/dist-packages (4.67.1)\n"
          ]
        }
      ]
    },
    {
      "cell_type": "code",
      "execution_count": null,
      "metadata": {
        "id": "RwyC-rLdHevv"
      },
      "outputs": [],
      "source": [
        "from collections import defaultdict\n",
        "from tqdm import tqdm\n",
        "import gurobipy as gp\n",
        "import json\n",
        "from enum import Enum\n",
        "import pandas as pd"
      ]
    },
    {
      "cell_type": "code",
      "execution_count": null,
      "metadata": {
        "id": "E4IK4IpQHm87"
      },
      "outputs": [],
      "source": [
        "class VariableType(Enum):\n",
        "    FLOW = 1\n",
        "    STOCK = 2\n",
        "    CELL = 3\n",
        "\n",
        "class CostType(Enum):\n",
        "    MISSING_INPUT = 1\n",
        "    MISSING_MINIMUM_QUANTITIES = 2\n",
        "    MISSING_OUTPUT = 3\n",
        "    LOGISTIC = 4\n"
      ]
    },
    {
      "cell_type": "code",
      "execution_count": null,
      "metadata": {
        "id": "0QsWx8nyeTRY"
      },
      "outputs": [],
      "source": [
        "folderToData = \"/content/\"\n",
        "path = f\"{folderToData}/data.json\""
      ]
    },
    {
      "cell_type": "code",
      "execution_count": null,
      "metadata": {
        "id": "do-xX1xpHihN"
      },
      "outputs": [],
      "source": [
        "with open(path, \"rb\")  as fp :\n",
        "    data = json.load(fp)"
      ]
    },
    {
      "cell_type": "code",
      "execution_count": null,
      "metadata": {
        "id": "6xlx58aFHlr7"
      },
      "outputs": [],
      "source": [
        "def addHeapStockVariable(model, variables,  nodeId: str):\n",
        "    if nodeId in data[\"intermediateNodes\"]:\n",
        "        maxCapacity = sum(data[\"intermediateNodes\"][nodeId][\"cells\"].values())\n",
        "        if  nodeId not in variables[VariableType.STOCK.value]:\n",
        "            variables[VariableType.STOCK.value][nodeId] = model.addVar(0,maxCapacity)\n",
        "\n",
        "\n",
        "def computeMissingInputOutput(model,variables,objectives, negativeContributions, positiveContributions):\n",
        "    for nodeId, value in data[\"terminalNodes\"].items():\n",
        "        if value < 0 :\n",
        "            flows = gp.quicksum([variables[VariableType.FLOW.value][idx]*ratio for idx,ratio in positiveContributions[nodeId]])\n",
        "            quantity = -value\n",
        "            model.addLConstr(\n",
        "                lhs = flows,\n",
        "                rhs = quantity,\n",
        "                sense = gp.GRB.LESS_EQUAL\n",
        "            )\n",
        "            objectives[CostType.MISSING_OUTPUT] += (quantity - flows)\n",
        "\n",
        "        else:\n",
        "            flows = gp.quicksum([variables[VariableType.FLOW.value][idx]*ratio for idx,ratio in negativeContributions[nodeId]])\n",
        "            quantity = value\n",
        "            model.addLConstr(\n",
        "                lhs = flows,\n",
        "                rhs = quantity,\n",
        "                sense = gp.GRB.LESS_EQUAL\n",
        "            )\n",
        "            objectives[CostType.MISSING_INPUT] += (quantity - flows)\n",
        "\n",
        "def computeMissingMinimumQuantitiesToReach(model,variables, limitQuantities,objectives, costType):\n",
        "    for details in limitQuantities.values():\n",
        "        l_edges, minimumQuantity, maximumQuantity = details[0], details[1], details[2]\n",
        "        if len(l_edges) == 0:\n",
        "            continue\n",
        "        flows = gp.quicksum([variables[VariableType.FLOW.value][idx]*ratio for idx,ratio in l_edges])\n",
        "        if maximumQuantity is not None:\n",
        "            model.addLConstr(\n",
        "                lhs = flows,\n",
        "                rhs = maximumQuantity,\n",
        "                sense = gp.GRB.LESS_EQUAL\n",
        "            )\n",
        "        if minimumQuantity>0:\n",
        "            slackVariable = model.addVar(lb = -float(\"inf\"))\n",
        "            model.addLConstr(\n",
        "                lhs = flows + slackVariable,\n",
        "                rhs = minimumQuantity,\n",
        "                sense = gp.GRB.GREATER_EQUAL\n",
        "            )\n",
        "\n",
        "            objectives[costType] += slackVariable\n"
      ]
    },
    {
      "cell_type": "code",
      "execution_count": null,
      "metadata": {
        "id": "5x2zMuJeKC4W",
        "colab": {
          "base_uri": "https://localhost:8080/"
        },
        "outputId": "b8e06563-e3b2-443c-e146-a2024a2ca7fc"
      },
      "outputs": [
        {
          "output_type": "stream",
          "name": "stdout",
          "text": [
            "Restricted license - for non-production use only - expires 2026-11-23\n"
          ]
        },
        {
          "output_type": "stream",
          "name": "stderr",
          "text": [
            "100%|██████████| 424/424 [00:00<00:00, 50502.21it/s]\n",
            "100%|██████████| 100/100 [00:00<00:00, 7852.88it/s]"
          ]
        },
        {
          "output_type": "stream",
          "name": "stdout",
          "text": [
            "Set parameter MIPGap to value 0.01\n",
            "Gurobi Optimizer version 12.0.1 build v12.0.1rc0 (linux64 - \"Ubuntu 22.04.4 LTS\")\n",
            "\n",
            "CPU model: AMD EPYC 7B12, instruction set [SSE2|AVX|AVX2]\n",
            "Thread count: 1 physical cores, 2 logical processors, using up to 2 threads\n",
            "\n",
            "Non-default parameters:\n",
            "MIPGap  0.01\n",
            "\n",
            "Optimize a model with 282 rows, 1007 columns and 2099 nonzeros\n",
            "Model fingerprint: 0x95269f89\n",
            "Variable types: 527 continuous, 480 integer (480 binary)\n",
            "Coefficient statistics:\n",
            "  Matrix range     [1e+00, 4e+03]\n",
            "  Objective range  [1e+00, 2e+01]\n",
            "  Bounds range     [1e+00, 1e+04]\n",
            "  RHS range        [1e+00, 5e+03]\n",
            "\n",
            "---------------------------------------------------------------------------\n",
            "Multi-objectives: starting optimization with 4 objectives... \n",
            "---------------------------------------------------------------------------\n",
            "\n",
            "Multi-objectives: applying initial presolve...\n",
            "---------------------------------------------------------------------------\n",
            "\n",
            "Presolve removed 15 rows and 4 columns\n",
            "Presolve time: 0.00s\n",
            "Presolved: 267 rows, 1003 columns, 2083 nonzeros\n",
            "\n",
            "Multi-objectives: optimize objective 1 () ...\n",
            "---------------------------------------------------------------------------\n",
            "\n",
            "Found heuristic solution: objective 103.4286000\n",
            "Found heuristic solution: objective 103.4286000\n",
            "Presolve removed 113 rows and 534 columns\n",
            "Presolve time: 0.01s\n",
            "Presolved: 154 rows, 469 columns, 987 nonzeros\n",
            "Found heuristic solution: objective -103.4285000\n",
            "Variable types: 89 continuous, 380 integer (380 binary)\n",
            "\n",
            "Explored 0 nodes (0 simplex iterations) in 0.03 seconds (0.01 work units)\n",
            "Thread count was 2 (of 2 available processors)\n",
            "\n",
            "Solution count 2: -103.428 103.429 \n",
            "No other solutions better than -103.428\n",
            "\n",
            "Optimal solution found (tolerance 1.00e-02)\n",
            "Best objective -1.034285000000e+02, best bound -1.034285000000e+02, gap 0.0000%\n",
            "---------------------------------------------------------------------------\n",
            "\n",
            "Multi-objectives: optimize objective 2 () ...\n",
            "---------------------------------------------------------------------------\n",
            "\n",
            "\n",
            "Loaded user MIP start with objective 1219.78\n",
            "\n",
            "Presolve removed 114 rows and 534 columns\n",
            "Presolve time: 0.01s\n",
            "Presolved: 154 rows, 469 columns, 987 nonzeros\n",
            "Found heuristic solution: objective 969.7800000\n",
            "Variable types: 89 continuous, 380 integer (380 binary)\n",
            "\n",
            "Root relaxation: objective 0.000000e+00, 63 iterations, 0.00 seconds (0.00 work units)\n",
            "\n",
            "    Nodes    |    Current Node    |     Objective Bounds      |     Work\n",
            " Expl Unexpl |  Obj  Depth IntInf | Incumbent    BestBd   Gap | It/Node Time\n",
            "\n",
            "     0     0    0.00000    0    6  969.78000    0.00000   100%     -    0s\n",
            "H    0     0                       0.0000000    0.00000  0.00%     -    0s\n",
            "     0     0    0.00000    0    6    0.00000    0.00000  0.00%     -    0s\n",
            "\n",
            "Explored 1 nodes (63 simplex iterations) in 0.07 seconds (0.01 work units)\n",
            "Thread count was 2 (of 2 available processors)\n",
            "\n",
            "Solution count 3: 0 969.78 1219.78 \n",
            "\n",
            "Optimal solution found (tolerance 1.00e-02)\n",
            "Best objective 0.000000000000e+00, best bound 0.000000000000e+00, gap 0.0000%\n",
            "---------------------------------------------------------------------------\n",
            "\n",
            "Multi-objectives: optimize objective 3 () ...\n",
            "---------------------------------------------------------------------------\n",
            "\n",
            "\n",
            "Loaded user MIP start with objective 17254.2\n",
            "\n",
            "Presolve removed 114 rows and 532 columns\n",
            "Presolve time: 0.01s\n",
            "Presolved: 155 rows, 471 columns, 993 nonzeros\n",
            "Variable types: 91 continuous, 380 integer (380 binary)\n",
            "\n",
            "Root relaxation: cutoff, 0 iterations, 0.00 seconds (0.00 work units)\n",
            "\n",
            "Explored 1 nodes (0 simplex iterations) in 0.11 seconds (0.01 work units)\n",
            "Thread count was 2 (of 2 available processors)\n",
            "\n",
            "Solution count 1: 17254.2 \n",
            "\n",
            "Optimal solution found (tolerance 1.00e-02)\n",
            "Best objective 1.725422000000e+04, best bound 1.725422000000e+04, gap 0.0000%\n",
            "---------------------------------------------------------------------------\n",
            "\n",
            "Multi-objectives: optimize objective 4 () ...\n",
            "---------------------------------------------------------------------------\n",
            "\n",
            "\n",
            "Loaded user MIP start with objective 28967.5\n",
            "\n",
            "Presolve removed 3 rows and 25 columns\n",
            "Presolve time: 0.01s\n",
            "Presolved: 267 rows, 978 columns, 2091 nonzeros\n",
            "Variable types: 522 continuous, 456 integer (456 binary)\n",
            "\n",
            "Root relaxation: objective 3.979833e+03, 142 iterations, 0.00 seconds (0.00 work units)\n",
            "\n",
            "    Nodes    |    Current Node    |     Objective Bounds      |     Work\n",
            " Expl Unexpl |  Obj  Depth IntInf | Incumbent    BestBd   Gap | It/Node Time\n",
            "\n",
            "H    0     0                    3979.8325853 3979.83259  0.00%     -    0s\n",
            "     0     0 3979.83259    0   36 3979.83259 3979.83259  0.00%     -    0s\n",
            "\n",
            "Explored 1 nodes (142 simplex iterations) in 0.14 seconds (0.02 work units)\n",
            "Thread count was 2 (of 2 available processors)\n",
            "\n",
            "Solution count 2: 3979.83 28967.5 \n",
            "\n",
            "Optimal solution found (tolerance 1.00e-02)\n",
            "Best objective 3.979832585280e+03, best bound 3.979832585280e+03, gap 0.0000%\n",
            "\n",
            "---------------------------------------------------------------------------\n",
            "Multi-objectives: solved in 0.14 seconds (0.02 work units), solution count 6\n",
            "\n"
          ]
        },
        {
          "output_type": "stream",
          "name": "stderr",
          "text": [
            "\n"
          ]
        }
      ],
      "source": [
        "objectives = {\n",
        "value: gp.LinExpr() for value in CostType.__members__.values()\n",
        "}\n",
        "\n",
        "variables = defaultdict(dict)\n",
        "variables[VariableType.CELL.value] = defaultdict(dict)\n",
        "\n",
        "positiveContributions = defaultdict(list)\n",
        "negativeContributions = defaultdict(list)\n",
        "\n",
        "model = gp.Model(\"HeapModel\")\n",
        "\n",
        "for edgeId, edge in tqdm(data[\"edges\"].items()):\n",
        "\n",
        "\n",
        "    from_,to_,transport = edge[\"from\"],edge[\"to\"],edge[\"transport\"]\n",
        "\n",
        "    addHeapStockVariable(model, variables,from_)\n",
        "    addHeapStockVariable(model, variables, to_)\n",
        "\n",
        "    positiveContributions[to_].append((edgeId,1))\n",
        "    negativeContributions[from_].append((edgeId,1))\n",
        "\n",
        "    if to_ in data[\"transformedNodes\"]:\n",
        "        for transformedNode, ratio in data[\"transformedNodes\"][to_][from_].items():\n",
        "            positiveContributions[transformedNode].append((edgeId, ratio))\n",
        "\n",
        "    variables[VariableType.FLOW.value][edgeId] = model.addVar()\n",
        "    if transport is not None:\n",
        "        cost = edge[\"cost\"]\n",
        "        objectives[CostType.LOGISTIC] += (cost * variables[VariableType.FLOW.value][edgeId])\n",
        "\n",
        "\n",
        "\n",
        "for heapNodeId, heapNode in tqdm(data[\"intermediateNodes\"].items()):\n",
        "    stockVariable = variables[VariableType.STOCK.value].get(heapNodeId)\n",
        "    timePeriodId = heapNode[\"timePeriod\"]\n",
        "    if stockVariable is None:\n",
        "        continue\n",
        "    mixingCells = gp.LinExpr()\n",
        "    for cellId, capacity in heapNode[\"cells\"].items():\n",
        "        binaryVar = model.addVar(vtype=gp.GRB.BINARY)\n",
        "        variables[VariableType.CELL.value][(cellId,timePeriodId)][heapNodeId] = binaryVar\n",
        "        mixingCells += (binaryVar*capacity)\n",
        "\n",
        "\n",
        "    comingFlows = gp.quicksum([variables[VariableType.FLOW.value][idx]*ratio for idx, ratio in positiveContributions[heapNodeId]])\n",
        "    exitingFlows = gp.quicksum([variables[VariableType.FLOW.value][idx]*ratio for idx, ratio in negativeContributions[heapNodeId]])\n",
        "    previousStock = gp.quicksum([variables[VariableType.STOCK.value].get(heapNode[\"previous\"],gp.LinExpr())])\n",
        "\n",
        "    variable = variables[VariableType.STOCK.value][heapNodeId]\n",
        "    model.addLConstr(\n",
        "        lhs = variable,\n",
        "        rhs = previousStock + comingFlows - exitingFlows,\n",
        "        sense = gp.GRB.EQUAL\n",
        "    )\n",
        "    model.addLConstr(\n",
        "        lhs = variable,\n",
        "        rhs = mixingCells,\n",
        "        sense = gp.GRB.LESS_EQUAL)\n",
        "\n",
        "for cell, cellsVariables in variables[VariableType.CELL.value].items():\n",
        "    cellId, timePeriodId = cell\n",
        "    cellsVariables = list(cellsVariables.values())\n",
        "    model.addLConstr(\n",
        "        lhs = gp.quicksum(cellsVariables),\n",
        "        rhs = 1,\n",
        "        sense = gp.GRB.LESS_EQUAL\n",
        "    )\n",
        "\n",
        "computeMissingMinimumQuantitiesToReach(model, variables, data[\"limitQuantities\"], objectives, CostType.MISSING_MINIMUM_QUANTITIES)\n",
        "computeMissingInputOutput(model,variables,objectives, negativeContributions, positiveContributions)\n",
        "\n",
        "model.setObjectiveN(\n",
        "    objectives[CostType.MISSING_MINIMUM_QUANTITIES],\n",
        "    index=0,\n",
        "    priority=len(objectives),\n",
        "    weight=1,\n",
        ")\n",
        "model.setObjectiveN(\n",
        "    objectives[CostType.MISSING_INPUT],\n",
        "    index=1,\n",
        "    priority=len(objectives)-1,\n",
        "    weight=1,\n",
        ")\n",
        "\n",
        "model.setObjectiveN(\n",
        "    objectives[CostType.MISSING_OUTPUT],\n",
        "    index=2,\n",
        "    priority=len(objectives)-2,\n",
        "    weight=1,\n",
        ")\n",
        "model.setObjectiveN(\n",
        "    objectives[CostType.LOGISTIC],\n",
        "    index=3,\n",
        "    priority=len(objectives)-3,\n",
        "    weight=1,\n",
        ")\n",
        "model.setParam(\"MIPGap\", 0.01)\n",
        "model.optimize()"
      ]
    },
    {
      "cell_type": "code",
      "execution_count": null,
      "metadata": {
        "id": "R6KctIGMeTRZ"
      },
      "outputs": [],
      "source": [
        "def writeSolution(variables):\n",
        "    flows = []\n",
        "    cells = []\n",
        "    for edgeId, var in variables[VariableType.FLOW.value].items():\n",
        "        if var.X > 1e-3:\n",
        "            flows.append(\n",
        "                {\n",
        "                    \"edgeId\": edgeId,\n",
        "                    \"value\": var.X\n",
        "                }\n",
        "            )\n",
        "    for cellIdPeriod, productDict in variables[VariableType.CELL.value].items():\n",
        "        for productId, var in productDict.items():\n",
        "            if var.X > 1e-3:\n",
        "                cells.append(\n",
        "                    {\n",
        "                        \"cellId\": cellIdPeriod[0],\n",
        "                        \"timePeriodId\": cellIdPeriod[1],\n",
        "                        \"productId\": productId,\n",
        "                        \"value\": var.X\n",
        "                    }\n",
        "                )\n",
        "    return pd.DataFrame(flows), pd.DataFrame(cells)"
      ]
    },
    {
      "cell_type": "code",
      "execution_count": null,
      "metadata": {
        "id": "GfGsWBWQeTRZ"
      },
      "outputs": [],
      "source": [
        "flows, cells = writeSolution(variables)"
      ]
    },
    {
      "cell_type": "code",
      "execution_count": null,
      "metadata": {
        "id": "-hoMLG-6eTRZ"
      },
      "outputs": [],
      "source": [
        "flows.to_csv(f\"{folderToData}/flows.csv\", index=False)\n",
        "cells.to_csv(f\"{folderToData}/cells.csv\", index=False)"
      ]
    }
  ],
  "metadata": {
    "colab": {
      "provenance": []
    },
    "kernelspec": {
      "display_name": ".venv",
      "language": "python",
      "name": "python3"
    },
    "language_info": {
      "codemirror_mode": {
        "name": "ipython",
        "version": 3
      },
      "file_extension": ".py",
      "mimetype": "text/x-python",
      "name": "python",
      "nbconvert_exporter": "python",
      "pygments_lexer": "ipython3",
      "version": "3.12.3"
    }
  },
  "nbformat": 4,
  "nbformat_minor": 0
}